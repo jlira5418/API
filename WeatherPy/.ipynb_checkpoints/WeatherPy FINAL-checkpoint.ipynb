{
 "cells": [
  {
   "cell_type": "code",
   "execution_count": 41,
   "id": "f0a41985",
   "metadata": {},
   "outputs": [],
   "source": [
    "# Dependencies and Setup\n",
    "import matplotlib.pyplot as plt\n",
    "import pandas as pd\n",
    "import os\n",
    "import numpy as np\n",
    "import requests\n",
    "import time\n",
    "from scipy.stats import linregress\n",
    "\n",
    "# Import API key\n",
    "from api_keys import weather_api_key\n",
    "# Incorporated citipy to determine city based on latitude and longitude\n",
    "from citipy import citipy\n",
    "\n",
    "# Output File (CSV)\n",
    "output_data_file = \"output_data/cities.csv\"\n",
    "\n",
    "# Range of latitudes and longitudes\n",
    "lat_range = (-90, 90)\n",
    "lng_range = (-180, 180)\n"
   ]
  },
  {
   "cell_type": "code",
   "execution_count": 42,
   "id": "96055f40",
   "metadata": {},
   "outputs": [
    {
     "data": {
      "text/plain": [
       "599"
      ]
     },
     "execution_count": 42,
     "metadata": {},
     "output_type": "execute_result"
    }
   ],
   "source": [
    "# List for holding lat_lngs and cities\n",
    "lat_lngs = []\n",
    "cities = []\n",
    "\n",
    "# Create a set of random lat and lng combinations\n",
    "lats = np.random.uniform(lat_range[0], lat_range[1], size=1500)\n",
    "lngs = np.random.uniform(lng_range[0], lng_range[1], size=1500)\n",
    "lat_lngs = zip(lats, lngs)\n",
    "\n",
    "# Identify nearest city for each lat, lng combination\n",
    "for lat_lng in lat_lngs:\n",
    "    city = citipy.nearest_city(lat_lng[0], lat_lng[1]).city_name\n",
    "    \n",
    "    # If the city is unique, then add it to a our cities list\n",
    "    if city not in cities:\n",
    "        cities.append(city)\n",
    "\n",
    "# Print the city count to confirm sufficient count\n",
    "len(cities)"
   ]
  },
  {
   "cell_type": "code",
   "execution_count": 43,
   "id": "fa84f12b",
   "metadata": {
    "scrolled": true
   },
   "outputs": [
    {
     "data": {
      "text/html": [
       "<div>\n",
       "<style scoped>\n",
       "    .dataframe tbody tr th:only-of-type {\n",
       "        vertical-align: middle;\n",
       "    }\n",
       "\n",
       "    .dataframe tbody tr th {\n",
       "        vertical-align: top;\n",
       "    }\n",
       "\n",
       "    .dataframe thead th {\n",
       "        text-align: right;\n",
       "    }\n",
       "</style>\n",
       "<table border=\"1\" class=\"dataframe\">\n",
       "  <thead>\n",
       "    <tr style=\"text-align: right;\">\n",
       "      <th></th>\n",
       "      <th>City</th>\n",
       "      <th>Lat</th>\n",
       "      <th>Lng</th>\n",
       "      <th>Max Temp</th>\n",
       "      <th>Humidity</th>\n",
       "      <th>Cloudiness</th>\n",
       "      <th>Wind Speed</th>\n",
       "      <th>Country</th>\n",
       "      <th>Date</th>\n",
       "    </tr>\n",
       "  </thead>\n",
       "  <tbody>\n",
       "    <tr>\n",
       "      <th>0</th>\n",
       "      <td>Atuona</td>\n",
       "      <td>-9.8000</td>\n",
       "      <td>-139.0333</td>\n",
       "      <td>25.78</td>\n",
       "      <td>75</td>\n",
       "      <td>10</td>\n",
       "      <td>7.54</td>\n",
       "      <td>PF</td>\n",
       "      <td>1636338164</td>\n",
       "    </tr>\n",
       "    <tr>\n",
       "      <th>1</th>\n",
       "      <td>Vaini</td>\n",
       "      <td>-21.2000</td>\n",
       "      <td>-175.2000</td>\n",
       "      <td>26.09</td>\n",
       "      <td>94</td>\n",
       "      <td>75</td>\n",
       "      <td>2.57</td>\n",
       "      <td>TO</td>\n",
       "      <td>1636338164</td>\n",
       "    </tr>\n",
       "    <tr>\n",
       "      <th>2</th>\n",
       "      <td>Butaritari</td>\n",
       "      <td>3.0707</td>\n",
       "      <td>172.7902</td>\n",
       "      <td>27.91</td>\n",
       "      <td>68</td>\n",
       "      <td>5</td>\n",
       "      <td>5.25</td>\n",
       "      <td>KI</td>\n",
       "      <td>1636338023</td>\n",
       "    </tr>\n",
       "    <tr>\n",
       "      <th>3</th>\n",
       "      <td>Faanui</td>\n",
       "      <td>-16.4833</td>\n",
       "      <td>-151.7500</td>\n",
       "      <td>26.44</td>\n",
       "      <td>73</td>\n",
       "      <td>23</td>\n",
       "      <td>4.08</td>\n",
       "      <td>PF</td>\n",
       "      <td>1636338164</td>\n",
       "    </tr>\n",
       "    <tr>\n",
       "      <th>4</th>\n",
       "      <td>Takoradze</td>\n",
       "      <td>4.8845</td>\n",
       "      <td>-1.7554</td>\n",
       "      <td>25.77</td>\n",
       "      <td>87</td>\n",
       "      <td>82</td>\n",
       "      <td>3.24</td>\n",
       "      <td>GH</td>\n",
       "      <td>1636338165</td>\n",
       "    </tr>\n",
       "    <tr>\n",
       "      <th>...</th>\n",
       "      <td>...</td>\n",
       "      <td>...</td>\n",
       "      <td>...</td>\n",
       "      <td>...</td>\n",
       "      <td>...</td>\n",
       "      <td>...</td>\n",
       "      <td>...</td>\n",
       "      <td>...</td>\n",
       "      <td>...</td>\n",
       "    </tr>\n",
       "    <tr>\n",
       "      <th>540</th>\n",
       "      <td>Moscow</td>\n",
       "      <td>55.7522</td>\n",
       "      <td>37.6156</td>\n",
       "      <td>6.32</td>\n",
       "      <td>84</td>\n",
       "      <td>100</td>\n",
       "      <td>5.79</td>\n",
       "      <td>RU</td>\n",
       "      <td>1636338167</td>\n",
       "    </tr>\n",
       "    <tr>\n",
       "      <th>541</th>\n",
       "      <td>Northam</td>\n",
       "      <td>51.0333</td>\n",
       "      <td>-4.2167</td>\n",
       "      <td>9.15</td>\n",
       "      <td>91</td>\n",
       "      <td>21</td>\n",
       "      <td>2.23</td>\n",
       "      <td>GB</td>\n",
       "      <td>1636338327</td>\n",
       "    </tr>\n",
       "    <tr>\n",
       "      <th>542</th>\n",
       "      <td>Point Fortin</td>\n",
       "      <td>10.1833</td>\n",
       "      <td>-61.6833</td>\n",
       "      <td>26.19</td>\n",
       "      <td>84</td>\n",
       "      <td>91</td>\n",
       "      <td>6.04</td>\n",
       "      <td>TT</td>\n",
       "      <td>1636338328</td>\n",
       "    </tr>\n",
       "    <tr>\n",
       "      <th>543</th>\n",
       "      <td>Tura</td>\n",
       "      <td>25.5198</td>\n",
       "      <td>90.2201</td>\n",
       "      <td>20.38</td>\n",
       "      <td>74</td>\n",
       "      <td>70</td>\n",
       "      <td>0.66</td>\n",
       "      <td>IN</td>\n",
       "      <td>1636338328</td>\n",
       "    </tr>\n",
       "    <tr>\n",
       "      <th>544</th>\n",
       "      <td>Port Said</td>\n",
       "      <td>31.2565</td>\n",
       "      <td>32.2841</td>\n",
       "      <td>22.99</td>\n",
       "      <td>83</td>\n",
       "      <td>0</td>\n",
       "      <td>4.12</td>\n",
       "      <td>EG</td>\n",
       "      <td>1636338328</td>\n",
       "    </tr>\n",
       "  </tbody>\n",
       "</table>\n",
       "<p>545 rows × 9 columns</p>\n",
       "</div>"
      ],
      "text/plain": [
       "             City      Lat       Lng  Max Temp  Humidity  Cloudiness  \\\n",
       "0          Atuona  -9.8000 -139.0333     25.78        75          10   \n",
       "1           Vaini -21.2000 -175.2000     26.09        94          75   \n",
       "2      Butaritari   3.0707  172.7902     27.91        68           5   \n",
       "3          Faanui -16.4833 -151.7500     26.44        73          23   \n",
       "4       Takoradze   4.8845   -1.7554     25.77        87          82   \n",
       "..            ...      ...       ...       ...       ...         ...   \n",
       "540        Moscow  55.7522   37.6156      6.32        84         100   \n",
       "541       Northam  51.0333   -4.2167      9.15        91          21   \n",
       "542  Point Fortin  10.1833  -61.6833     26.19        84          91   \n",
       "543          Tura  25.5198   90.2201     20.38        74          70   \n",
       "544     Port Said  31.2565   32.2841     22.99        83           0   \n",
       "\n",
       "     Wind Speed Country        Date  \n",
       "0          7.54      PF  1636338164  \n",
       "1          2.57      TO  1636338164  \n",
       "2          5.25      KI  1636338023  \n",
       "3          4.08      PF  1636338164  \n",
       "4          3.24      GH  1636338165  \n",
       "..          ...     ...         ...  \n",
       "540        5.79      RU  1636338167  \n",
       "541        2.23      GB  1636338327  \n",
       "542        6.04      TT  1636338328  \n",
       "543        0.66      IN  1636338328  \n",
       "544        4.12      EG  1636338328  \n",
       "\n",
       "[545 rows x 9 columns]"
      ]
     },
     "execution_count": 43,
     "metadata": {},
     "output_type": "execute_result"
    }
   ],
   "source": [
    "# Save config information.\n",
    "url = \"http://api.openweathermap.org/data/2.5/weather?\"\n",
    "units = \"metric\"\n",
    "\n",
    "lst_City = []\n",
    "lst_Lat = []\n",
    "lst_Lng = []\n",
    "lst_Max_Temp = []\n",
    "lst_Humidity = []\n",
    "lst_Cloudiness = []\n",
    "lst_Wind_Speed = []\n",
    "lst_Country = []\n",
    "lst_Date = []\n",
    "\n",
    "\n",
    "# Build partial query URL\n",
    "query_url = f\"{url}appid={weather_api_key}&units={units}&q=\"\n",
    "\n",
    "for city in cities:\n",
    "    req = requests.get(query_url + city)\n",
    "    response = req.json()\n",
    "    if req.status_code != 404:\n",
    "        lst_City.append(response['name'])\n",
    "        lst_Lat.append(response[\"coord\"][\"lat\"])\n",
    "        lst_Lng.append(response[\"coord\"][\"lon\"])\n",
    "        lst_Max_Temp.append(response[\"main\"][\"temp_max\"]) \n",
    "        lst_Humidity.append(response[\"main\"][\"humidity\"])\n",
    "        lst_Cloudiness.append(response[\"clouds\"][\"all\"])\n",
    "        lst_Wind_Speed.append(response[\"wind\"][\"speed\"])\n",
    "        lst_Country.append(response[\"sys\"][\"country\"])\n",
    "        lst_Date.append(response[\"dt\"])\n",
    "        \n",
    "dict_global_weather = {\n",
    "    \"City\":lst_City, \n",
    "    \"Lat\": lst_Lat, \n",
    "    \"Lng\":lst_Lng,\n",
    "    \"Max Temp\":lst_Max_Temp,\n",
    "    \"Humidity\":lst_Humidity,\n",
    "    \"Cloudiness\":lst_Cloudiness,\n",
    "    \"Wind Speed\":lst_Wind_Speed,\n",
    "    \"Cloudiness\":lst_Cloudiness,\n",
    "    \"Wind Speed\":lst_Wind_Speed,\n",
    "    \"Country\": lst_Country,\n",
    "    \"Date\":lst_Date\n",
    "}\n",
    "\n",
    "# Create Presentation DataFrame for Distrcit\n",
    "df_global_weather = pd.DataFrame(dict_global_weather)\n",
    "\n",
    "df_global_weather\n",
    "    "
   ]
  },
  {
   "cell_type": "code",
   "execution_count": 44,
   "id": "25a40ad9",
   "metadata": {},
   "outputs": [
    {
     "ename": "TypeError",
     "evalue": "to_csv() got an unexpected keyword argument 'drop'",
     "output_type": "error",
     "traceback": [
      "\u001b[1;31m---------------------------------------------------------------------------\u001b[0m",
      "\u001b[1;31mTypeError\u001b[0m                                 Traceback (most recent call last)",
      "\u001b[1;32m<ipython-input-44-8e6599a047dd>\u001b[0m in \u001b[0;36m<module>\u001b[1;34m\u001b[0m\n\u001b[1;32m----> 1\u001b[1;33m \u001b[0mdf_global_weather\u001b[0m\u001b[1;33m.\u001b[0m\u001b[0mto_csv\u001b[0m\u001b[1;33m(\u001b[0m\u001b[1;34m'weather_output.csv'\u001b[0m\u001b[1;33m,\u001b[0m\u001b[0mdrop\u001b[0m \u001b[1;33m=\u001b[0m \u001b[1;32mTrue\u001b[0m\u001b[1;33m)\u001b[0m\u001b[1;33m\u001b[0m\u001b[1;33m\u001b[0m\u001b[0m\n\u001b[0m",
      "\u001b[1;31mTypeError\u001b[0m: to_csv() got an unexpected keyword argument 'drop'"
     ]
    }
   ],
   "source": [
    "df_global_weather.to_csv('weather_output.csv',drop = True)"
   ]
  },
  {
   "cell_type": "code",
   "execution_count": null,
   "id": "314172fe",
   "metadata": {},
   "outputs": [],
   "source": [
    "df_global_weather = pd.read_csv('weather_output.csv')"
   ]
  },
  {
   "cell_type": "code",
   "execution_count": null,
   "id": "c4713ea8",
   "metadata": {},
   "outputs": [],
   "source": [
    "df_global_weather = df_global_weather.reset_index(drop=True)\n",
    "df_global_weather = df_global_weather.drop(\"Unnamed: 0\",1)\n",
    "df_global_weather.describe()"
   ]
  },
  {
   "cell_type": "code",
   "execution_count": null,
   "id": "bf2569ef",
   "metadata": {},
   "outputs": [],
   "source": [
    "query = df_global_weather[\"Humidity\"]>100\n",
    "#df_global_weather_100 = df_global_weather[query]\n",
    "#df_global_weather_100.head()\n",
    "len(df_global_weather[query])"
   ]
  },
  {
   "cell_type": "code",
   "execution_count": null,
   "id": "54194f5b",
   "metadata": {},
   "outputs": [],
   "source": [
    "df_global_weather.head()"
   ]
  },
  {
   "cell_type": "code",
   "execution_count": null,
   "id": "dd417f1c",
   "metadata": {},
   "outputs": [],
   "source": [
    "x = df_global_weather[\"Lat\"]\n",
    "y = df_global_weather[\"Max Temp\"]\n",
    "plt.scatter(x,y, edgecolor = \"black\", linewidths = 1,alpha = 0.5)\n",
    "plt.title(\"City Latitude vs Max Temperature\")\n",
    "plt.xlabel(\"Latitude\") \n",
    "plt.ylabel(\"Max Temperature\")\n",
    "plt.grid(True)\n",
    "\n",
    "\n",
    "plt.show()"
   ]
  },
  {
   "cell_type": "code",
   "execution_count": null,
   "id": "67ac5e11",
   "metadata": {},
   "outputs": [],
   "source": [
    "#Latitude vs Humidity\n",
    "x = df_global_weather[\"Lat\"]\n",
    "y = df_global_weather[\"Humidity\"]\n",
    "plt.scatter(x,y, edgecolor = \"black\", linewidths = 1,alpha = 0.5)\n",
    "plt.title(\"City Latitude vs Humidity\")\n",
    "plt.xlabel(\"Latitude\") \n",
    "plt.ylabel(\"Humidity\")\n",
    "plt.grid(True)\n",
    "\n",
    "\n",
    "plt.show()\n"
   ]
  },
  {
   "cell_type": "code",
   "execution_count": null,
   "id": "a78f788b",
   "metadata": {},
   "outputs": [],
   "source": [
    "#Latitude vs Cloudiness\n",
    "x = df_global_weather[\"Lat\"]\n",
    "y = df_global_weather[\"Cloudiness\"]\n",
    "plt.scatter(x,y, edgecolor = \"black\", linewidths = 1,alpha = 0.5)\n",
    "plt.title(\"City Latitude vs Cloudiness\")\n",
    "plt.xlabel(\"Latitude\") \n",
    "plt.ylabel(\"Cloudiness\")\n",
    "plt.grid(True)\n",
    "\n",
    "\n",
    "plt.show()"
   ]
  },
  {
   "cell_type": "code",
   "execution_count": null,
   "id": "a1274dd7",
   "metadata": {},
   "outputs": [],
   "source": [
    "#Latitude vs Wind Speed\n",
    "x = df_global_weather[\"Lat\"]\n",
    "y = df_global_weather[\"Wind Speed\"]\n",
    "plt.scatter(x,y, edgecolor = \"black\", linewidths = 1,alpha = 0.5)\n",
    "plt.title(\"City Latitude vs Wind Speed\")\n",
    "plt.xlabel(\"Latitude\") \n",
    "plt.ylabel(\"Wind Speed\")\n",
    "plt.grid(True)\n",
    "\n",
    "\n",
    "plt.show()"
   ]
  },
  {
   "cell_type": "code",
   "execution_count": null,
   "id": "8a344663",
   "metadata": {},
   "outputs": [],
   "source": [
    "def addnumber(n1,n2,n3):\n",
    "    result=n1+n2+n3\n",
    "    return(result)"
   ]
  },
  {
   "cell_type": "code",
   "execution_count": null,
   "id": "ec8e3ede",
   "metadata": {},
   "outputs": [],
   "source": [
    "print(addnumber(26,32,25))"
   ]
  },
  {
   "cell_type": "code",
   "execution_count": null,
   "id": "b7914a26",
   "metadata": {},
   "outputs": [],
   "source": [
    "r=addnumber(75,99,85)\n",
    "print(r)"
   ]
  },
  {
   "cell_type": "code",
   "execution_count": 27,
   "id": "5b452650",
   "metadata": {},
   "outputs": [],
   "source": [
    "def createlinregression(xVal,yVal,Title,posText,fontsize):\n",
    "    #RegressionAnalysis\n",
    "    (slope,intercept,rVal,pVal,StErr)=linregress(xVal,yVal)\n",
    "    regressionValues = xVal*slope+intercept\n",
    "    slope = round(slope,2)\n",
    "    intercept = round(intercept,2)\n",
    "    lineEquation =f\"y = {slope} x + {intercept}\"\n",
    "\n",
    "\n",
    "    #plotting\n",
    "    plt.scatter(xVal,yVal)\n",
    "    plt.plot(xVal,regressionValues,\"r-\")\n",
    "    plt.annotate(lineEquation,posText,fontsize = fontsize,color = \"red\")\n",
    "    plt.xlabel(\"Latitude\")\n",
    "    plt.ylabel(Title)\n",
    "    print(f\"The rvalue of the relationship = {rVal}\" )\n",
    "    plt.show()\n",
    "    "
   ]
  },
  {
   "cell_type": "code",
   "execution_count": 22,
   "id": "87c2b48d",
   "metadata": {},
   "outputs": [
    {
     "data": {
      "text/html": [
       "<div>\n",
       "<style scoped>\n",
       "    .dataframe tbody tr th:only-of-type {\n",
       "        vertical-align: middle;\n",
       "    }\n",
       "\n",
       "    .dataframe tbody tr th {\n",
       "        vertical-align: top;\n",
       "    }\n",
       "\n",
       "    .dataframe thead th {\n",
       "        text-align: right;\n",
       "    }\n",
       "</style>\n",
       "<table border=\"1\" class=\"dataframe\">\n",
       "  <thead>\n",
       "    <tr style=\"text-align: right;\">\n",
       "      <th></th>\n",
       "      <th>City</th>\n",
       "      <th>Lat</th>\n",
       "      <th>Lng</th>\n",
       "      <th>Max Temp</th>\n",
       "      <th>Humidity</th>\n",
       "      <th>Cloudiness</th>\n",
       "      <th>Wind Speed</th>\n",
       "      <th>Country</th>\n",
       "      <th>Date</th>\n",
       "    </tr>\n",
       "  </thead>\n",
       "  <tbody>\n",
       "    <tr>\n",
       "      <th>0</th>\n",
       "      <td>Ushuaia</td>\n",
       "      <td>-54.8000</td>\n",
       "      <td>-68.3000</td>\n",
       "      <td>5.81</td>\n",
       "      <td>70</td>\n",
       "      <td>40</td>\n",
       "      <td>4.63</td>\n",
       "      <td>AR</td>\n",
       "      <td>1636336702</td>\n",
       "    </tr>\n",
       "    <tr>\n",
       "      <th>1</th>\n",
       "      <td>Ugoofaaru</td>\n",
       "      <td>5.6667</td>\n",
       "      <td>73.0000</td>\n",
       "      <td>27.03</td>\n",
       "      <td>81</td>\n",
       "      <td>99</td>\n",
       "      <td>7.66</td>\n",
       "      <td>MV</td>\n",
       "      <td>1636337290</td>\n",
       "    </tr>\n",
       "    <tr>\n",
       "      <th>2</th>\n",
       "      <td>Touros</td>\n",
       "      <td>-5.1989</td>\n",
       "      <td>-35.4608</td>\n",
       "      <td>26.31</td>\n",
       "      <td>77</td>\n",
       "      <td>82</td>\n",
       "      <td>5.88</td>\n",
       "      <td>BR</td>\n",
       "      <td>1636336859</td>\n",
       "    </tr>\n",
       "    <tr>\n",
       "      <th>3</th>\n",
       "      <td>Khatanga</td>\n",
       "      <td>71.9667</td>\n",
       "      <td>102.5000</td>\n",
       "      <td>-11.50</td>\n",
       "      <td>94</td>\n",
       "      <td>99</td>\n",
       "      <td>5.76</td>\n",
       "      <td>RU</td>\n",
       "      <td>1636336707</td>\n",
       "    </tr>\n",
       "    <tr>\n",
       "      <th>4</th>\n",
       "      <td>Olinda</td>\n",
       "      <td>-8.0089</td>\n",
       "      <td>-34.8553</td>\n",
       "      <td>27.85</td>\n",
       "      <td>74</td>\n",
       "      <td>75</td>\n",
       "      <td>3.09</td>\n",
       "      <td>BR</td>\n",
       "      <td>1636336918</td>\n",
       "    </tr>\n",
       "  </tbody>\n",
       "</table>\n",
       "</div>"
      ],
      "text/plain": [
       "        City      Lat       Lng  Max Temp  Humidity  Cloudiness  Wind Speed  \\\n",
       "0    Ushuaia -54.8000  -68.3000      5.81        70          40        4.63   \n",
       "1  Ugoofaaru   5.6667   73.0000     27.03        81          99        7.66   \n",
       "2     Touros  -5.1989  -35.4608     26.31        77          82        5.88   \n",
       "3   Khatanga  71.9667  102.5000    -11.50        94          99        5.76   \n",
       "4     Olinda  -8.0089  -34.8553     27.85        74          75        3.09   \n",
       "\n",
       "  Country        Date  \n",
       "0      AR  1636336702  \n",
       "1      MV  1636337290  \n",
       "2      BR  1636336859  \n",
       "3      RU  1636336707  \n",
       "4      BR  1636336918  "
      ]
     },
     "execution_count": 22,
     "metadata": {},
     "output_type": "execute_result"
    }
   ],
   "source": [
    "df_global_weather.head()"
   ]
  },
  {
   "cell_type": "code",
   "execution_count": null,
   "id": "f18cf6f7",
   "metadata": {},
   "outputs": [],
   "source": [
    "query_north = df_global_weather[\"Lat\"]>=0\n",
    "query_south = df_global_weather[\"Lat\"]<0\n",
    "\n",
    "df_north = df_global_weather[query_north]\n",
    "df_south = df_global_weather[query_south]\n",
    "\n",
    "\n",
    "\n"
   ]
  },
  {
   "cell_type": "code",
   "execution_count": 33,
   "id": "e293f4a0",
   "metadata": {},
   "outputs": [
    {
     "name": "stdout",
     "output_type": "stream",
     "text": [
      "The rvalue of the relationship = -0.8963838598840562\n"
     ]
    },
    {
     "data": {
      "image/png": "[encoded data removed]",
      "text/plain": [
       "<Figure size 432x288 with 1 Axes>"
      ]
     },
     "metadata": {
      "needs_background": "light"
     },
     "output_type": "display_data"
    },
    {
     "name": "stdout",
     "output_type": "stream",
     "text": [
      "Northern Hemisphere - Max Temp VS Latitude Linear Regression\n"
     ]
    }
   ],
   "source": [
    "x = df_north[\"Lat\"]\n",
    "y = df_north[\"Max Temp\"]\n",
    "yTitle = \"Temperature\"\n",
    "createlinregression(x,y,yTitle,(0,-10),13)\n",
    "print(f\"Northern Hemisphere - Max Temp VS Latitude Linear Regression\" )\n",
    "plt.show()"
   ]
  },
  {
   "cell_type": "code",
   "execution_count": null,
   "id": "5efed4ac",
   "metadata": {},
   "outputs": [],
   "source": [
    "x = df_south[\"Lat\"]\n",
    "y = df_south[\"Max Temp\"]\n",
    "yTitle = \"Temperature\"\n",
    "createlinregression(x,y,yTitle,(-48,28),13)\n",
    "print(f\"Southern Hemisphere - Max Temp VS Latitude Linear Regression\" )\n",
    "plt.show()"
   ]
  },
  {
   "cell_type": "code",
   "execution_count": 45,
   "id": "4023d03c",
   "metadata": {},
   "outputs": [
    {
     "name": "stdout",
     "output_type": "stream",
     "text": [
      "The rvalue of the relationship = 0.2265754555374926\n"
     ]
    },
    {
     "data": {
      "image/png": "[encoded data removed]",
      "text/plain": [
       "<Figure size 432x288 with 1 Axes>"
      ]
     },
     "metadata": {
      "needs_background": "light"
     },
     "output_type": "display_data"
    },
    {
     "name": "stdout",
     "output_type": "stream",
     "text": [
      "Northern Hemisphere - Humidity (%) VS Latitude Linear Regression\n"
     ]
    }
   ],
   "source": [
    "x = df_north[\"Lat\"]\n",
    "y = df_north[\"Humidity\"]\n",
    "yTitle = \"Humidity\"\n",
    "createlinregression(x,y,yTitle,(45,18),10)\n",
    "print(f\"Northern Hemisphere - Humidity (%) VS Latitude Linear Regression\" )\n",
    "plt.show()\n"
   ]
  },
  {
   "cell_type": "code",
   "execution_count": 46,
   "id": "30f77ad9",
   "metadata": {},
   "outputs": [
    {
     "name": "stdout",
     "output_type": "stream",
     "text": [
      "The rvalue of the relationship = 0.30923325421652337\n"
     ]
    },
    {
     "data": {
      "image/png": "[encoded data removed]",
      "text/plain": [
       "<Figure size 432x288 with 1 Axes>"
      ]
     },
     "metadata": {
      "needs_background": "light"
     },
     "output_type": "display_data"
    },
    {
     "name": "stdout",
     "output_type": "stream",
     "text": [
      "Southern Hemisphere - Humidity (%) VS Latitude Linear Regression\n"
     ]
    }
   ],
   "source": [
    "x = df_south[\"Lat\"]\n",
    "y = df_south[\"Humidity\"]\n",
    "yTitle = \"Humidity\"\n",
    "createlinregression(x,y,yTitle,(-25,22),13)\n",
    "print(f\"Southern Hemisphere - Humidity (%) VS Latitude Linear Regression\" )\n",
    "plt.show()"
   ]
  },
  {
   "cell_type": "code",
   "execution_count": null,
   "id": "22ff2c21",
   "metadata": {},
   "outputs": [],
   "source": []
  },
  {
   "cell_type": "code",
   "execution_count": null,
   "id": "53bb8ccb",
   "metadata": {},
   "outputs": [],
   "source": []
  }
 ],
 "metadata": {
  "kernelspec": {
   "display_name": "Python 3",
   "language": "python",
   "name": "python3"
  }
 },
 "nbformat": 4,
 "nbformat_minor": 5
}
